{
 "cells": [
  {
   "cell_type": "code",
   "execution_count": null,
   "metadata": {},
   "outputs": [],
   "source": [
    "# Provjera da li je python instaliran na sustavu\n",
    "print(\"Hello World\")"
   ]
  },
  {
   "cell_type": "code",
   "execution_count": 2,
   "metadata": {},
   "outputs": [
    {
     "name": "stdout",
     "output_type": "stream",
     "text": [
      "           model  year  price transmission  mileage fuelType  tax   mpg  engineSize Manufacturer\n",
      "0            I10  2017   7495       Manual    11630   Petrol  145  60.1         1.0       hyundi\n",
      "1           Polo  2017  10989       Manual     9200   Petrol  145  58.9         1.0   volkswagen\n",
      "2       2 Series  2019  27990    Semi-Auto     1614   Diesel  145  49.6         2.0          BMW\n",
      "3   Yeti Outdoor  2017  12495       Manual    30960   Diesel  150  62.8         2.0        skoda\n",
      "4         Fiesta  2017   7999       Manual    19353   Petrol  125  54.3         1.2         ford\n"
     ]
    }
   ],
   "source": [
    "# Učitavanje potrebnih biblioteka\n",
    "import pandas as pd\n",
    "pd.set_option('display.width', 1000)\n",
    "pd.set_option('display.max_columns', None)\n",
    "\n",
    "# Učitavanje podataka iz CSV datoteke\n",
    "PATH = \"CarsData.csv\"\n",
    "\n",
    "# Učitavanje svih podataka\n",
    "data = pd.read_csv(PATH, delimiter=',')\n",
    "\n",
    "# Ispis prvih 5 redova\n",
    "print(data.head())"
   ]
  },
  {
   "cell_type": "code",
   "execution_count": 3,
   "metadata": {},
   "outputs": [
    {
     "name": "stdout",
     "output_type": "stream",
     "text": [
      "(97712, 10)\n"
     ]
    }
   ],
   "source": [
    "# Ispis dimenzija skupa podataka (potrebno je učitati sve podatke radi analize, ne samo prvih 2000 redova)\n",
    "print(data.shape)"
   ]
  },
  {
   "cell_type": "code",
   "execution_count": null,
   "metadata": {},
   "outputs": [],
   "source": [
    "# Ispis imena stupaca i nedostajućih vrijednosti\n",
    "print(data.isna().sum())"
   ]
  },
  {
   "cell_type": "code",
   "execution_count": 4,
   "metadata": {},
   "outputs": [
    {
     "name": "stdout",
     "output_type": "stream",
     "text": [
      "model             196\n",
      "year               27\n",
      "price           13236\n",
      "transmission        4\n",
      "mileage         42214\n",
      "fuelType            5\n",
      "tax                48\n",
      "mpg               208\n",
      "engineSize         40\n",
      "Manufacturer        9\n",
      "dtype: int64\n"
     ]
    }
   ],
   "source": [
    "# Ispis broja jedinstvenih vrijednosti po stupcima\n",
    "print(data.nunique())"
   ]
  },
  {
   "cell_type": "code",
   "execution_count": null,
   "metadata": {},
   "outputs": [],
   "source": [
    "# Ispis tipova podataka po stupcima (analiza kvanitativnih i kvalitativnih varijabli)\n",
    "print(data.dtypes)"
   ]
  },
  {
   "cell_type": "code",
   "execution_count": null,
   "metadata": {},
   "outputs": [],
   "source": [
    "# Ispis broja jedinstvenih vrijednosti po stupcima\n",
    "for column in data:\n",
    "    print(data[column].value_counts())\n",
    "    input(\"...\")"
   ]
  },
  {
   "cell_type": "code",
   "execution_count": null,
   "metadata": {},
   "outputs": [],
   "source": [
    "# Ispis imena stupaca\n",
    "print(data.columns.values)"
   ]
  },
  {
   "cell_type": "code",
   "execution_count": 5,
   "metadata": {},
   "outputs": [
    {
     "name": "stdout",
     "output_type": "stream",
     "text": [
      "['hyundi' 'volkswagen' 'BMW' 'skoda' 'ford' 'toyota' 'merc' 'vauxhall'\n",
      " 'Audi']\n"
     ]
    }
   ],
   "source": [
    "print(data['Manufacturer'].unique())"
   ]
  }
 ],
 "metadata": {
  "kernelspec": {
   "display_name": "myVenv",
   "language": "python",
   "name": "python3"
  },
  "language_info": {
   "codemirror_mode": {
    "name": "ipython",
    "version": 3
   },
   "file_extension": ".py",
   "mimetype": "text/x-python",
   "name": "python",
   "nbconvert_exporter": "python",
   "pygments_lexer": "ipython3",
   "version": "3.9.7"
  }
 },
 "nbformat": 4,
 "nbformat_minor": 2
}
